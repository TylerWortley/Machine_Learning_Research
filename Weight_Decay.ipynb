{
 "cells": [
  {
   "cell_type": "markdown",
   "metadata": {},
   "source": [
    "## Create Feed Forward Neural Network\n",
    "- 1 input, 1 output, with 1 hudden layer and 2 neurons with some weights, 100 data points"
   ]
  },
  {
   "cell_type": "code",
   "execution_count": null,
   "metadata": {},
   "outputs": [],
   "source": []
  },
  {
   "cell_type": "markdown",
   "metadata": {},
   "source": [
    "## Create and Train Second Neural Network\n",
    "- use data created by first neural network to train this second RNN \n",
    "- use adam optimizer to investigate weight decay\n",
    "- 2 scenarios: firstly, leave at default, no regularization, second, give some value that is supposed to help training (maybe look at adam and weight decay parameter documentaiton)"
   ]
  },
  {
   "cell_type": "code",
   "execution_count": null,
   "metadata": {},
   "outputs": [],
   "source": []
  }
 ],
 "metadata": {
  "kernelspec": {
   "display_name": "Python 3",
   "language": "python",
   "name": "python3"
  },
  "language_info": {
   "name": "python",
   "version": "3.11.9"
  }
 },
 "nbformat": 4,
 "nbformat_minor": 2
}
